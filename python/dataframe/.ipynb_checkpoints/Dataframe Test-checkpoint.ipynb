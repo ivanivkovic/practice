{
 "cells": [
  {
   "cell_type": "code",
   "execution_count": null,
   "metadata": {},
   "outputs": [],
   "source": [
    "# Python pandas Dataframe library\n",
    "#\n",
    "# -Napraviti data exploratory analizu na nekom csvu\n",
    "#\n",
    "# shape\n",
    "# describe\n",
    "# info\n",
    "# group \n",
    "# sort\n",
    "# filter primjeri\n",
    "#\n",
    "# svaki promjer u jednoj ćeliji – ovo se poslije onda može koristiti kao knowledgebase"
   ]
  },
  {
   "cell_type": "code",
   "execution_count": null,
   "metadata": {},
   "outputs": [],
   "source": []
  }
 ],
 "metadata": {
  "kernelspec": {
   "display_name": "Python 3",
   "language": "python",
   "name": "python3"
  },
  "language_info": {
   "codemirror_mode": {
    "name": "ipython",
    "version": 3
   },
   "file_extension": ".py",
   "mimetype": "text/x-python",
   "name": "python",
   "nbconvert_exporter": "python",
   "pygments_lexer": "ipython3",
   "version": "3.7.3"
  }
 },
 "nbformat": 4,
 "nbformat_minor": 2
}
